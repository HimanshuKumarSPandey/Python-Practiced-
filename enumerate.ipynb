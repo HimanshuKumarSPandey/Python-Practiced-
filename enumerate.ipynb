{
 "cells": [
  {
   "cell_type": "markdown",
   "metadata": {},
   "source": [
    "# enumerate(iterable, start=0)\n",
    "\n",
    "`iterable` must be a sequence, an iterator, or some other object which **supports iteration**. The `__next__()` method of the iterator returned by `enumerate()` **returns a tuple containing a count (from start which defaults to 0) and the values obtained from iterating over iterable**."
   ]
  },
  {
   "cell_type": "markdown",
   "metadata": {},
   "source": [
    "If you've ever wanted to keep track of both index and value when manipulating a list,\n",
    "you probably did something like this:"
   ]
  },
  {
   "cell_type": "code",
   "execution_count": 7,
   "metadata": {},
   "outputs": [
    {
     "name": "stdout",
     "output_type": "stream",
     "text": [
      "The 0th fibonacci number is 1.\n",
      "The 1th fibonacci number is 1.\n",
      "The 2th fibonacci number is 2.\n",
      "The 3th fibonacci number is 3.\n",
      "The 4th fibonacci number is 5.\n",
      "The 5th fibonacci number is 8.\n",
      "The 6th fibonacci number is 13.\n",
      "The 7th fibonacci number is 21.\n"
     ]
    }
   ],
   "source": [
    "fibonacci = [1, 1, 2, 3, 5, 8, 13, 21]\n",
    "for i in range(len(fibonacci)):\n",
    "    print(\"The {}th fibonacci number is {}.\".format(i, fibonacci[i]))"
   ]
  },
  {
   "cell_type": "markdown",
   "metadata": {},
   "source": [
    "But if we wanted to start counting from 1 or something, we would need to do:"
   ]
  },
  {
   "cell_type": "code",
   "execution_count": 8,
   "metadata": {},
   "outputs": [
    {
     "name": "stdout",
     "output_type": "stream",
     "text": [
      "The 1th fibonacci number is 1.\n",
      "The 2th fibonacci number is 1.\n",
      "The 3th fibonacci number is 2.\n",
      "The 4th fibonacci number is 3.\n",
      "The 5th fibonacci number is 5.\n",
      "The 6th fibonacci number is 8.\n",
      "The 7th fibonacci number is 13.\n",
      "The 8th fibonacci number is 21.\n"
     ]
    }
   ],
   "source": [
    "fibonacci = [1, 1, 2, 3, 5, 8, 13, 21]\n",
    "for i in range(len(fibonacci)):\n",
    "    print(\"The {}th fibonacci number is {}.\".format(i+1, fibonacci[i]))"
   ]
  },
  {
   "cell_type": "markdown",
   "metadata": {},
   "source": [
    "You can achieve the same results using the `enumerate()` function, but you instead get\n",
    "separate variables for your index and element, so it's a bit easier to read."
   ]
  },
  {
   "cell_type": "code",
   "execution_count": 9,
   "metadata": {},
   "outputs": [
    {
     "name": "stdout",
     "output_type": "stream",
     "text": [
      "The 0th fibonacci number is 1.\n",
      "The 1th fibonacci number is 1.\n",
      "The 2th fibonacci number is 2.\n",
      "The 3th fibonacci number is 3.\n",
      "The 4th fibonacci number is 5.\n",
      "The 5th fibonacci number is 8.\n",
      "The 6th fibonacci number is 13.\n",
      "The 7th fibonacci number is 21.\n"
     ]
    }
   ],
   "source": [
    "fibonacci = [1, 1, 2, 3, 5, 8, 13, 21]\n",
    "\n",
    "for index, number in enumerate(fibonacci):\n",
    "    print(\"The {}th fibonacci number is {}.\".format(index, number))"
   ]
  },
  {
   "cell_type": "markdown",
   "metadata": {},
   "source": [
    "In more difficult problems, referring to `i+1`for counting, but using index `i`, could get confusing since \n",
    "they don't match. In this scenario, the `enumerate()` function gives us a little more flexibility since\n",
    "we can specify any `start` that we want:"
   ]
  },
  {
   "cell_type": "code",
   "execution_count": 10,
   "metadata": {},
   "outputs": [
    {
     "name": "stdout",
     "output_type": "stream",
     "text": [
      "The 1th fibonacci number is 1.\n",
      "The 2th fibonacci number is 1.\n",
      "The 3th fibonacci number is 2.\n",
      "The 4th fibonacci number is 3.\n",
      "The 5th fibonacci number is 5.\n",
      "The 6th fibonacci number is 8.\n",
      "The 7th fibonacci number is 13.\n",
      "The 8th fibonacci number is 21.\n"
     ]
    }
   ],
   "source": [
    "fibonacci = [1, 1, 2, 3, 5, 8, 13, 21]\n",
    "\n",
    "for index, number in enumerate(fibonacci, start=1):\n",
    "    print(\"The {}th fibonacci number is {}.\".format(index, number))"
   ]
  }
 ],
 "metadata": {
  "kernelspec": {
   "display_name": "Python 3",
   "language": "python",
   "name": "python3"
  },
  "language_info": {
   "codemirror_mode": {
    "name": "ipython",
    "version": 3
   },
   "file_extension": ".py",
   "mimetype": "text/x-python",
   "name": "python",
   "nbconvert_exporter": "python",
   "pygments_lexer": "ipython3",
   "version": "3.6.4"
  }
 },
 "nbformat": 4,
 "nbformat_minor": 2
}
