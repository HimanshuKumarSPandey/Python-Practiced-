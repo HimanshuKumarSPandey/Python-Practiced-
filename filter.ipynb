{
 "cells": [
  {
   "cell_type": "markdown",
   "metadata": {},
   "source": [
    "# filter()\n",
    "As the name suggests, filter creates a list of elements for which a function returns true. Here is a simple example:"
   ]
  },
  {
   "cell_type": "code",
   "execution_count": 13,
   "metadata": {},
   "outputs": [
    {
     "name": "stdout",
     "output_type": "stream",
     "text": [
      "[-5, -4, -3, -2, -1, 0, 1, 2, 3, 4]\n",
      "[-5, -4, -3, -2, -1]\n"
     ]
    }
   ],
   "source": [
    "def negative(x):\n",
    "    return x < 0\n",
    "\n",
    "number_list = list(range(-5, 5))\n",
    "less_than_zero = list(filter(negative, number_list))\n",
    "\n",
    "print(number_list)\n",
    "print(less_than_zero)"
   ]
  },
  {
   "cell_type": "markdown",
   "metadata": {},
   "source": [
    "Just like `map()` you can use a lambda function for more concise code instead of defining one separately."
   ]
  },
  {
   "cell_type": "code",
   "execution_count": 14,
   "metadata": {},
   "outputs": [
    {
     "name": "stdout",
     "output_type": "stream",
     "text": [
      "[-5, -4, -3, -2, -1, 0, 1, 2, 3, 4]\n",
      "[-5, -4, -3, -2, -1]\n"
     ]
    }
   ],
   "source": [
    "number_list = list(range(-5, 5))\n",
    "less_than_zero = list(filter(lambda x: x < 0, number_list))\n",
    "\n",
    "print(number_list)\n",
    "print(less_than_zero)"
   ]
  },
  {
   "cell_type": "markdown",
   "metadata": {},
   "source": [
    "The filter resembles a for loop but it is a builtin function and faster.\n",
    "Note: If map & filter do not appear beautiful to you then you can also use \n",
    " list/dict/tuple comprehensions."
   ]
  },
  {
   "cell_type": "code",
   "execution_count": 15,
   "metadata": {},
   "outputs": [
    {
     "name": "stdout",
     "output_type": "stream",
     "text": [
      "[-5, -4, -3, -2, -1, 0, 1, 2, 3, 4]\n",
      "[-5, -4, -3, -2, -1]\n"
     ]
    }
   ],
   "source": [
    "number_list = list(range(-5, 5))\n",
    "less_than_zero = [x for x in number_list if x < 0]\n",
    "\n",
    "print(number_list)\n",
    "print(less_than_zero)"
   ]
  },
  {
   "cell_type": "markdown",
   "metadata": {},
   "source": [
    "You can use `filter()` for many things that require some condition, but just to give another example, you\n",
    "can use it to get just the even or odd numbers of a list"
   ]
  },
  {
   "cell_type": "code",
   "execution_count": 16,
   "metadata": {},
   "outputs": [
    {
     "name": "stdout",
     "output_type": "stream",
     "text": [
      "[-5, -4, -3, -2, -1, 0, 1, 2, 3, 4]\n",
      "[-4, -2, 0, 2, 4]\n",
      "[-5, -3, -1, 1, 3]\n"
     ]
    }
   ],
   "source": [
    "number_list = list(range(-5, 5))\n",
    "even_numbers = list(filter(lambda x : x % 2 == 0, number_list))\n",
    "odd_numbers = list(filter(lambda x : x % 2 == 1, number_list))\n",
    "\n",
    "print(number_list)\n",
    "print(even_numbers)\n",
    "print(odd_numbers)"
   ]
  }
 ],
 "metadata": {
  "kernelspec": {
   "display_name": "Python 3",
   "language": "python",
   "name": "python3"
  },
  "language_info": {
   "codemirror_mode": {
    "name": "ipython",
    "version": 3
   },
   "file_extension": ".py",
   "mimetype": "text/x-python",
   "name": "python",
   "nbconvert_exporter": "python",
   "pygments_lexer": "ipython3",
   "version": "3.6.4"
  }
 },
 "nbformat": 4,
 "nbformat_minor": 2
}
