{
 "cells": [
  {
   "cell_type": "markdown",
   "metadata": {},
   "source": [
    "# Generators\n",
    "\n",
    "First lets understand iterators. An iterator is an object that enables a programmer to traverse a container, such as lists. However, an iterator performs traversal and gives access to data elements in a container, but does not perform iteration. \n",
    "\n",
    "There are three parts to this concept:\n",
    "1. Iterable\n",
    "2. Iterator\n",
    "3. Iteration\n",
    "\n",
    "All of these parts are linked to each other. We will discuss them one by one and later talk about generators.\n",
    "\n",
    "## Iterable\n",
    "An iterable is any object in Python which has an __iter__ or a __getitem__ method defined which returns an iterator or can take indexes. In short an iterable is any object which can provide us with an iterator.\n",
    "\n",
    "Some iterables:\n",
    "* Lists\n",
    "* Tuples\n",
    "* Sets\n",
    "* Strings\n",
    "* Dictionaries\n",
    "\n",
    "## Iterator\n",
    "An iterator is any object in Python which has a __next__ method defined. That’s it. Basically it is just something you can use to sequentially traverse a container, like a list.\n",
    "\n",
    "## Iteration\n",
    "In simple words it is the process of taking an item from something e.g a list. When we use a loop to loop over something, it is called iteration. It is the name given to the process itself. Here is an example of iteration:"
   ]
  },
  {
   "cell_type": "code",
   "execution_count": 43,
   "metadata": {},
   "outputs": [
    {
     "name": "stdout",
     "output_type": "stream",
     "text": [
      "1\n",
      "2\n",
      "3\n"
     ]
    }
   ],
   "source": [
    "number_list = [1, 2, 3] # our iterable\n",
    "for number in number_list: # number iterates over list\n",
    "    print(number) # prints value pointed to by our iterator for each iteration"
   ]
  },
  {
   "cell_type": "markdown",
   "metadata": {},
   "source": [
    "## Generators\n",
    "Generators are iterators, but you can only iterate over them once. \n",
    "\n",
    "It’s because they **do not store the values in memory**, they **generate the values on the fly**. You use them by iterating over them, either with a ‘for’ loop, or by passing them to any function that iterates. Most of the time, generators are implemented as functions. However, they **do not return** a value, they `yield` it. Here is a simple example of a generator function:\n"
   ]
  },
  {
   "cell_type": "code",
   "execution_count": 44,
   "metadata": {},
   "outputs": [
    {
     "name": "stdout",
     "output_type": "stream",
     "text": [
      "0\n",
      "1\n",
      "2\n",
      "3\n",
      "4\n",
      "5\n",
      "6\n",
      "7\n",
      "8\n",
      "9\n"
     ]
    }
   ],
   "source": [
    "def gen():\n",
    "    for i in range(10):\n",
    "        yield i\n",
    "\n",
    "for num in gen():\n",
    "    print(num)"
   ]
  },
  {
   "cell_type": "markdown",
   "metadata": {},
   "source": [
    "However, generators do not HAVE to be functions. You can also write generator expressions for various\n",
    "purposes, including list/set/dict comprehensions!"
   ]
  },
  {
   "cell_type": "code",
   "execution_count": 45,
   "metadata": {},
   "outputs": [
    {
     "name": "stdout",
     "output_type": "stream",
     "text": [
      "[0, 2, 4, 6, 8, 10, 12, 14, 16, 18]\n",
      "[0, 2, 4, 6, 8, 10, 12, 14, 16, 18]\n"
     ]
    }
   ],
   "source": [
    "# list comprehension\n",
    "doubles = [2 * n for n in range(10)]\n",
    "print(doubles)\n",
    "\n",
    "# same as the list comprehension above but more clear\n",
    "doubles2 = list(2 * n for n in range(10)) # passing a generator to list() constructor\n",
    "print(doubles2)\n",
    "\n"
   ]
  },
  {
   "cell_type": "code",
   "execution_count": 46,
   "metadata": {},
   "outputs": [
    {
     "data": {
      "text/plain": [
       "generator"
      ]
     },
     "execution_count": 46,
     "metadata": {},
     "output_type": "execute_result"
    }
   ],
   "source": [
    "type(2 * n for n in range(50))"
   ]
  },
  {
   "cell_type": "markdown",
   "metadata": {},
   "source": [
    "Some more examples:"
   ]
  },
  {
   "cell_type": "code",
   "execution_count": 47,
   "metadata": {},
   "outputs": [
    {
     "name": "stdout",
     "output_type": "stream",
     "text": [
      "<generator object double at 0x7fb7a45b5ca8>\n"
     ]
    }
   ],
   "source": [
    "# explicitly write a generator function\n",
    "def double(L):\n",
    "    for x in L:\n",
    "        yield x*2\n",
    "\n",
    "# doubled_numbers will be a generator, so we can't print it\n",
    "double_gen = double([1, 2, 3, 4, 5])\n",
    "print(double_gen)"
   ]
  },
  {
   "cell_type": "code",
   "execution_count": 48,
   "metadata": {},
   "outputs": [
    {
     "name": "stdout",
     "output_type": "stream",
     "text": [
      "2\n",
      "4\n",
      "6\n",
      "8\n",
      "10\n"
     ]
    }
   ],
   "source": [
    "# But we can iterate over it\n",
    "for num in double_gen:\n",
    "    print(num)"
   ]
  },
  {
   "cell_type": "code",
   "execution_count": 50,
   "metadata": {},
   "outputs": [
    {
     "name": "stdout",
     "output_type": "stream",
     "text": [
      "<generator object <genexpr> at 0x7fb7a45b5938>\n",
      "2\n",
      "4\n",
      "6\n",
      "8\n",
      "10\n"
     ]
    }
   ],
   "source": [
    "# You can also do generator comprehension rather than defining a function\n",
    "double_gen2 = (x*2 for x in [1, 2, 3, 4, 5])\n",
    "print(double_gen2)\n",
    "\n",
    "for num in double_gen2:\n",
    "    print(num)"
   ]
  },
  {
   "cell_type": "code",
   "execution_count": 51,
   "metadata": {},
   "outputs": [
    {
     "name": "stdout",
     "output_type": "stream",
     "text": [
      "[2, 4, 6, 8, 10]\n",
      "[2, 4, 6, 8, 10]\n"
     ]
    }
   ],
   "source": [
    "# You can cast a generator to list() if you want to - this is what list comprehension is\n",
    "double_list = list(double([1, 2, 3, 4, 5]))\n",
    "print(double_list)\n",
    "# List comprehension is just generator comprehension with [] instead of ()\n",
    "double_list2 = [x*2 for x in [1, 2, 3, 4, 5]]\n",
    "print(double_list2)"
   ]
  },
  {
   "cell_type": "markdown",
   "metadata": {},
   "source": [
    "Now here's the cool thing about generators, they don't store everything, they **generate** on the fly! "
   ]
  },
  {
   "cell_type": "code",
   "execution_count": 52,
   "metadata": {},
   "outputs": [
    {
     "name": "stdout",
     "output_type": "stream",
     "text": [
      "824464\n",
      "88\n"
     ]
    }
   ],
   "source": [
    "from sys import getsizeof\n",
    "my_comp = [x * 5 for x in range(100000)]\n",
    "my_gen = (x * 5 for x in range(100000))\n",
    "print(getsizeof(my_comp))\n",
    "print(getsizeof(my_gen))"
   ]
  },
  {
   "cell_type": "markdown",
   "metadata": {},
   "source": [
    "You might think generators would be much slower since they don't have the list stored, but it seems they're close enough in speed for most cases that it is pretty negligible. However, there is a big disclaimer here for\n",
    "generators:"
   ]
  },
  {
   "cell_type": "code",
   "execution_count": 55,
   "metadata": {},
   "outputs": [
    {
     "name": "stdout",
     "output_type": "stream",
     "text": [
      "0\n",
      "1\n",
      "2\n",
      "3\n",
      "4\n",
      "5\n",
      "6\n",
      "7\n",
      "8\n",
      "9\n",
      "\n"
     ]
    }
   ],
   "source": [
    "gen = (x for x in range(10))\n",
    "\n",
    "for i in gen:\n",
    "    print(i)\n",
    "\n",
    "print()\n",
    "\n",
    "# This loop doesn't print anything!\n",
    "for k in gen:\n",
    "    print(k)\n",
    "    "
   ]
  },
  {
   "cell_type": "markdown",
   "metadata": {},
   "source": [
    "As stated at the top of this notebook: Generators are iterators, **but you can only iterate over them once**.\n",
    "\n",
    "So if you plan on using the same data more than once, you'd have to generate it every time you want to iterate over it. This is when you'd prefer to store your data, such as with a list.\n"
   ]
  },
  {
   "cell_type": "code",
   "execution_count": 56,
   "metadata": {},
   "outputs": [
    {
     "name": "stdout",
     "output_type": "stream",
     "text": [
      "0\n",
      "1\n",
      "2\n",
      "3\n",
      "4\n",
      "5\n",
      "6\n",
      "7\n",
      "8\n",
      "9\n",
      "\n",
      "0\n",
      "1\n",
      "2\n",
      "3\n",
      "4\n",
      "5\n",
      "6\n",
      "7\n",
      "8\n",
      "9\n"
     ]
    }
   ],
   "source": [
    "lis = [x for x in range(10)]\n",
    "\n",
    "for i in lis:\n",
    "    print(i)\n",
    "\n",
    "print()\n",
    "for k in lis:\n",
    "    print(k)"
   ]
  }
 ],
 "metadata": {
  "kernelspec": {
   "display_name": "Python 3",
   "language": "python",
   "name": "python3"
  },
  "language_info": {
   "codemirror_mode": {
    "name": "ipython",
    "version": 3
   },
   "file_extension": ".py",
   "mimetype": "text/x-python",
   "name": "python",
   "nbconvert_exporter": "python",
   "pygments_lexer": "ipython3",
   "version": "3.6.4"
  }
 },
 "nbformat": 4,
 "nbformat_minor": 2
}
