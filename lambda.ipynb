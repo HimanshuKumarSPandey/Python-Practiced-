{
 "cells": [
  {
   "cell_type": "markdown",
   "metadata": {},
   "source": [
    "# Lambda Functions\n",
    "\n",
    "Lambda is a tool for building functions, or more precisely, for building function objects. That means that Python has two tools for building functions: def and lambda."
   ]
  },
  {
   "cell_type": "code",
   "execution_count": 7,
   "metadata": {},
   "outputs": [
    {
     "data": {
      "text/plain": [
       "10"
      ]
     },
     "execution_count": 7,
     "metadata": {},
     "output_type": "execute_result"
    }
   ],
   "source": [
    "def add(x, y):\n",
    "    return x + y\n",
    "\n",
    "add(4, 6)"
   ]
  },
  {
   "cell_type": "markdown",
   "metadata": {},
   "source": [
    "This can be written more concisely as a `lambda` function following the form `lambda arg1, arg2, ... : function body`"
   ]
  },
  {
   "cell_type": "code",
   "execution_count": 8,
   "metadata": {},
   "outputs": [
    {
     "data": {
      "text/plain": [
       "10"
      ]
     },
     "execution_count": 8,
     "metadata": {},
     "output_type": "execute_result"
    }
   ],
   "source": [
    "add = lambda x,y : x+y\n",
    "add(4, 6)\n"
   ]
  },
  {
   "cell_type": "markdown",
   "metadata": {},
   "source": [
    "`lambda` functions are commonly referred to as \"anonymous\" functions. This implies that they don't need a name.\n",
    "Moreover, `lambda` functions are often used when you only want to use a function once in a certain spot, and\n",
    "don't really know a formally defined function for code reusability:"
   ]
  },
  {
   "cell_type": "markdown",
   "metadata": {},
   "source": [
    "So in our previous `add()` example, using `lambda` doesn't really have much purpose, because we give it a name anyway. If you're going to refer to the function by name, you're probably just better off defining it with `def`\n",
    "\n",
    "However, when using functions such as `map()`, `filter()`, and `reduce()`, which each take a function as an\n",
    "argument, its very handy to be able to just define the function in-line.\n",
    "\n",
    "Here is an example of defining a function in-line as an argument:"
   ]
  },
  {
   "cell_type": "code",
   "execution_count": 11,
   "metadata": {},
   "outputs": [
    {
     "name": "stdout",
     "output_type": "stream",
     "text": [
      "Lambda function called by master function\n"
     ]
    }
   ],
   "source": [
    "def master_function(child_function):\n",
    "    child_function()\n",
    "    \n",
    "master_function(lambda : print(\"Lambda function called by master function\"))"
   ]
  }
 ],
 "metadata": {
  "kernelspec": {
   "display_name": "Python 3",
   "language": "python",
   "name": "python3"
  },
  "language_info": {
   "codemirror_mode": {
    "name": "ipython",
    "version": 3
   },
   "file_extension": ".py",
   "mimetype": "text/x-python",
   "name": "python",
   "nbconvert_exporter": "python",
   "pygments_lexer": "ipython3",
   "version": "3.6.4"
  }
 },
 "nbformat": 4,
 "nbformat_minor": 2
}
