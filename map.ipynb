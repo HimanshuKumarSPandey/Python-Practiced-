{
 "cells": [
  {
   "cell_type": "markdown",
   "metadata": {},
   "source": [
    "# map()\n",
    "Map applies a function to all the items in an input_list. Here is the \n",
    "blueprint:\n",
    "\n",
    "```python\n",
    "map(function_to_apply, list_of_inputs)\n",
    "```"
   ]
  },
  {
   "cell_type": "markdown",
   "metadata": {},
   "source": [
    "Most of the times we want to pass all the list elements to a function \n",
    "one-by-one and then collect the output. For instance:"
   ]
  },
  {
   "cell_type": "code",
   "execution_count": 1,
   "metadata": {},
   "outputs": [
    {
     "name": "stdout",
     "output_type": "stream",
     "text": [
      "[1, 2, 3, 4, 5]\n",
      "[1, 4, 9, 16, 25]\n"
     ]
    }
   ],
   "source": [
    "items = [1, 2, 3, 4, 5]\n",
    "squared_items = []\n",
    "for i in items:\n",
    "    squared_items.append(i**2)\n",
    "    \n",
    "print(items)\n",
    "print(squared_items)"
   ]
  },
  {
   "cell_type": "markdown",
   "metadata": {},
   "source": [
    "Map allows us to implement this in a much simpler and nicer way:"
   ]
  },
  {
   "cell_type": "code",
   "execution_count": 2,
   "metadata": {},
   "outputs": [
    {
     "name": "stdout",
     "output_type": "stream",
     "text": [
      "[1, 2, 3, 4, 5]\n",
      "[1, 4, 9, 16, 25]\n"
     ]
    }
   ],
   "source": [
    "def square(x):\n",
    "    return x**2\n",
    "\n",
    "items = [1, 2, 3, 4, 5]\n",
    "squared_items = list(map(square, items))\n",
    "\n",
    "print(items)\n",
    "print(squared_items)"
   ]
  },
  {
   "cell_type": "markdown",
   "metadata": {},
   "source": [
    "Most of the times we use lambdas with `map`, so I did the same. "
   ]
  },
  {
   "cell_type": "code",
   "execution_count": 3,
   "metadata": {},
   "outputs": [
    {
     "name": "stdout",
     "output_type": "stream",
     "text": [
      "[1, 2, 3, 4, 5]\n",
      "[1, 4, 9, 16, 25]\n"
     ]
    }
   ],
   "source": [
    "items = [1, 2, 3, 4, 5]\n",
    "squared_items = list(map(lambda x: x**2, items))\n",
    "\n",
    "print(items)\n",
    "print(squared_items)"
   ]
  },
  {
   "cell_type": "markdown",
   "metadata": {},
   "source": [
    "Instead of a list of inputs, we can even apply a list of functions!"
   ]
  },
  {
   "cell_type": "code",
   "execution_count": 4,
   "metadata": {},
   "outputs": [
    {
     "name": "stdout",
     "output_type": "stream",
     "text": [
      "[0, 0]\n",
      "[1, 2]\n",
      "[4, 4]\n",
      "[9, 6]\n",
      "[16, 8]\n"
     ]
    }
   ],
   "source": [
    "def square(x):\n",
    "\treturn (x*x)\n",
    "def double(x):\n",
    "\treturn (2*x)\n",
    "\n",
    "# For the numbers from 0 to 4, square it and double it\n",
    "funcs = [square, double]\n",
    "for i in range(5):\n",
    "    # value will be a list containing two elements [i^2, 2*i], one for each function in funcs\n",
    "    value = list(map(lambda x: x(i), funcs))\n",
    "    print(value)"
   ]
  }
 ],
 "metadata": {
  "kernelspec": {
   "display_name": "Python 3",
   "language": "python",
   "name": "python3"
  },
  "language_info": {
   "codemirror_mode": {
    "name": "ipython",
    "version": 3
   },
   "file_extension": ".py",
   "mimetype": "text/x-python",
   "name": "python",
   "nbconvert_exporter": "python",
   "pygments_lexer": "ipython3",
   "version": "3.6.4"
  }
 },
 "nbformat": 4,
 "nbformat_minor": 2
}
